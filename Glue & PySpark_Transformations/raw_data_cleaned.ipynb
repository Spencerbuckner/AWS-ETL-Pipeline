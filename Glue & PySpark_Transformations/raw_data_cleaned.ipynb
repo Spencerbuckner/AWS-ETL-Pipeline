{
 "cells": [
  {
   "cell_type": "markdown",
   "metadata": {
    "deletable": false,
    "editable": false
   },
   "source": [
    "\n",
    "# Glue Studio Notebook\n",
    "You are now running a **Glue Studio** notebook; before you can start using your notebook you *must* start an interactive session. The second cell in this notebook contains all the needed magics to start your session so all you need to do is execute it.\n",
    "\n",
    "## Available Magics\n",
    "|          Magic              |   Type       |                                                                        Description                                                                        |\n",
    "|-----------------------------|--------------|-----------------------------------------------------------------------------------------------------------------------------------------------------------|\n",
    "| %%configure                 |  Dictionary  |  A json-formatted dictionary consisting of all configuration parameters for a session. Each parameter can be specified here or through individual magics. |\n",
    "| %profile                    |  String      |  Specify a profile in your aws configuration to use as the credentials provider.                                                                          |\n",
    "| %iam_role                   |  String      |  Specify an IAM role to execute your session with.                                                                                                        |\n",
    "| %region                     |  String      |  Specify the AWS region in which to initialize a session                                                                                                  |\n",
    "| %session_id                 |  String      |  Returns the session ID for the running session.                                                                                                          |\n",
    "| %connections                |  List        |  Specify a comma separated list of connections to use in the session.                                                                                     |\n",
    "| %additional_python_modules  |  List        |  Comma separated list of pip packages, s3 paths or private pip arguments.                                                                                 |\n",
    "| %extra_py_files             |  List        |  Comma separated list of additional Python files from S3.                                                                                                 |\n",
    "| %extra_jars                 |  List        |  Comma separated list of additional Jars to include in the cluster.                                                                                       |\n",
    "| %number_of_workers          |  Integer     |  The number of workers of a defined worker_type that are allocated when a job runs. worker_type must be set too.                                          |\n",
    "| %worker_type                |  String      |  Standard, G.1X, *or* G.2X. number_of_workers must be set too. Default is G.1X                                                                            |\n",
    "| %glue_version               |  String      |  The version of Glue to be used by this session. Currently, the only valid options are 2.0 and 3.0                                                        |\n",
    "| %security_config            |  String      |  Define a security configuration to be used with this session.                                                                                            |\n",
    "| %sql                        |  String      |  Run SQL code. All lines after the initial %%sql magic will be passed as part of the SQL code.                                                            |\n",
    "| %status                     |              |  Returns the status of the current Glue session including its duration, configuration and executing user / role.                                          |\n",
    "| %delete_session             |              |  Deletes the current session and kills the cluster. User stops being charged.                                                                             |\n",
    "| %list_sessions              |              |  Lists all currently running sessions by name and ID.                                                                                                     |"
   ]
  },
  {
   "cell_type": "code",
   "execution_count": null,
   "metadata": {},
   "outputs": [
    {
     "name": "stdout",
     "output_type": "stream",
     "text": [
      "Welcome to the Glue Interactive Sessions Kernel\n",
      "For more information on available magic commands, please type %help in any new cell.\n",
      "\n",
      "Please view our Getting Started page to access the most up-to-date information on the Interactive Sessions kernel: https://docs.aws.amazon.com/glue/latest/dg/interactive-sessions.html\n",
      "It looks like there is a newer version of the kernel available. The latest version is 0.30 and you have 0.29 installed.\n",
      "Please run `pip install --upgrade aws-glue-sessions` to upgrade your kernel\n",
      "Authenticating with environment variables and user-defined glue_role_arn: arn:aws:iam::795874274480:role/AWSGlueRole-Access\n",
      "Attempting to use existing AssumeRole session credentials.\n",
      "Trying to create a Glue session for the kernel.\n",
      "Worker Type: G.1X\n",
      "Number of Workers: 5\n",
      "Session ID: 687ddd2d-a6b6-4ce0-b0b6-3f86bf7cb665\n",
      "Applying the following default arguments:\n",
      "--glue_kernel_version 0.29\n",
      "--enable-glue-datacatalog true\n",
      "Waiting for session 687ddd2d-a6b6-4ce0-b0b6-3f86bf7cb665 to get into ready status...\n",
      "Session 687ddd2d-a6b6-4ce0-b0b6-3f86bf7cb665 has been created\n",
      "\n",
      "\n"
     ]
    }
   ],
   "source": [
    "import sys\n",
    "from awsglue.transforms import *\n",
    "from awsglue.utils import getResolvedOptions\n",
    "from pyspark.context import SparkContext\n",
    "from awsglue.context import GlueContext\n",
    "from awsglue.job import Job\n",
    "  \n",
    "sc = SparkContext.getOrCreate()\n",
    "glueContext = GlueContext(sc)\n",
    "spark = glueContext.spark_session\n",
    "job = Job(glueContext)"
   ]
  },
  {
   "cell_type": "markdown",
   "metadata": {},
   "source": [
    "### Importing tables from Data Catalog"
   ]
  },
  {
   "cell_type": "code",
   "execution_count": 1,
   "metadata": {},
   "outputs": [
    {
     "name": "stdout",
     "output_type": "stream",
     "text": [
      "\n"
     ]
    }
   ],
   "source": [
    "customer_df = glueContext.create_data_frame.from_catalog(database=\"raw-data-db\", table_name=\"customer\")\n",
    "order_items_df = glueContext.create_data_frame.from_catalog(database=\"raw-data-db\", table_name=\"order_items\")\n",
    "order_payments_df = glueContext.create_data_frame.from_catalog(database=\"raw-data-db\", table_name=\"order_payments\")\n",
    "orders_df = glueContext.create_data_frame.from_catalog(database=\"raw-data-db\", table_name=\"orders\")\n",
    "products_df = glueContext.create_data_frame.from_catalog(database=\"raw-data-db\", table_name=\"products\")"
   ]
  },
  {
   "cell_type": "markdown",
   "metadata": {},
   "source": [
    "### Dropping Nulls Rows"
   ]
  },
  {
   "cell_type": "code",
   "execution_count": 2,
   "metadata": {},
   "outputs": [
    {
     "name": "stdout",
     "output_type": "stream",
     "text": [
      "\n"
     ]
    }
   ],
   "source": [
    "customer_df_drop = customer_df.na.drop()\n",
    "order_items_drop = order_items_df.na.drop()\n",
    "order_payments_drop = order_payments_df.na.drop()\n",
    "orders_drop = orders_df.na.drop()\n",
    "products_drop = products_df.na.drop()"
   ]
  },
  {
   "cell_type": "code",
   "execution_count": 5,
   "metadata": {},
   "outputs": [
    {
     "name": "stdout",
     "output_type": "stream",
     "text": [
      "\n"
     ]
    }
   ],
   "source": [
    "from awsglue.dynamicframe import DynamicFrame"
   ]
  },
  {
   "cell_type": "markdown",
   "metadata": {},
   "source": [
    "### Changing type from DF to Dynamic Frame for upload"
   ]
  },
  {
   "cell_type": "code",
   "execution_count": 6,
   "metadata": {},
   "outputs": [
    {
     "name": "stdout",
     "output_type": "stream",
     "text": [
      "\n"
     ]
    }
   ],
   "source": [
    "customer_df_dynamic = DynamicFrame.fromDF(customer_df_drop, glueContext, \"test_customer\")\n",
    "order_items_df_dynamic = DynamicFrame.fromDF(order_items_drop, glueContext, \"test_order_items\")\n",
    "order_payments_df_dynamic = DynamicFrame.fromDF(order_payments_drop, glueContext, \"test_order_payments\")\n",
    "orders_df_dynamic = DynamicFrame.fromDF(orders_drop, glueContext, \"test_orders_df\")\n",
    "products_df_dynamic = DynamicFrame.fromDF(products_drop, glueContext, \"test_products\")"
   ]
  },
  {
   "cell_type": "markdown",
   "metadata": {},
   "source": [
    "### Uploading Dynamic Frames to new S3 Bucket"
   ]
  },
  {
   "cell_type": "code",
   "execution_count": 7,
   "metadata": {},
   "outputs": [
    {
     "name": "stdout",
     "output_type": "stream",
     "text": [
      "<awsglue.dynamicframe.DynamicFrame object at 0x7f0c49974890>\n"
     ]
    }
   ],
   "source": [
    "glueContext.write_dynamic_frame.from_options(customer_df_dynamic,connection_type=\"s3\",connection_options={\"path\":\"s3://cleaned-data-bucket-sjb/customer\"}, format='csv')\n",
    "glueContext.write_dynamic_frame.from_options(order_items_df_dynamic,connection_type=\"s3\",connection_options={\"path\":\"s3://cleaned-data-bucket-sjb/order_items\"}, format='csv')\n",
    "glueContext.write_dynamic_frame.from_options(order_payments_df_dynamic,connection_type=\"s3\",connection_options={\"path\":\"s3://cleaned-data-bucket-sjb/order_payments\"}, format='csv')\n",
    "glueContext.write_dynamic_frame.from_options(orders_df_dynamic,connection_type=\"s3\",connection_options={\"path\":\"s3://cleaned-data-bucket-sjb/orders\"}, format='csv')\n",
    "glueContext.write_dynamic_frame.from_options(products_df_dynamic,connection_type=\"s3\",connection_options={\"path\":\"s3://cleaned-data-bucket-sjb/products\"}, format='csv')"
   ]
  },
  {
   "cell_type": "code",
   "execution_count": null,
   "metadata": {},
   "outputs": [],
   "source": []
  }
 ],
 "metadata": {
  "kernelspec": {
   "display_name": "Python 3 (ipykernel)",
   "language": "python",
   "name": "python3"
  },
  "language_info": {
   "codemirror_mode": {
    "name": "ipython",
    "version": 3
   },
   "file_extension": ".py",
   "mimetype": "text/x-python",
   "name": "python",
   "nbconvert_exporter": "python",
   "pygments_lexer": "ipython3",
   "version": "3.9.7"
  }
 },
 "nbformat": 4,
 "nbformat_minor": 4
}
