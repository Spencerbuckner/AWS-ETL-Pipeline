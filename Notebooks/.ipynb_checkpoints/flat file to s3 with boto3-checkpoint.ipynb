{
 "cells": [
  {
   "cell_type": "code",
   "execution_count": 1,
   "id": "3ceb35e1",
   "metadata": {},
   "outputs": [],
   "source": [
    "import os\n",
    "import glob"
   ]
  },
  {
   "cell_type": "code",
   "execution_count": 2,
   "id": "8ddaf166",
   "metadata": {},
   "outputs": [],
   "source": [
    "import boto3\n",
    "client = boto3.client('s3')"
   ]
  },
  {
   "cell_type": "code",
   "execution_count": 3,
   "id": "31a2d178",
   "metadata": {},
   "outputs": [
    {
     "data": {
      "text/plain": [
       "[{'Name': 'aws-glue-assets-795874274480-us-east-1',\n",
       "  'CreationDate': datetime.datetime(2022, 4, 15, 21, 53, 33, tzinfo=tzutc())},\n",
       " {'Name': 'cleaned-data-bucket-sjb',\n",
       "  'CreationDate': datetime.datetime(2022, 4, 14, 16, 31, 18, tzinfo=tzutc())},\n",
       " {'Name': 'cleaned-data-storage-1yr',\n",
       "  'CreationDate': datetime.datetime(2022, 4, 14, 16, 33, 21, tzinfo=tzutc())},\n",
       " {'Name': 'raw-data-staging-sjb',\n",
       "  'CreationDate': datetime.datetime(2022, 4, 18, 2, 2, 55, tzinfo=tzutc())},\n",
       " {'Name': 'raw-data-storage-1yr',\n",
       "  'CreationDate': datetime.datetime(2022, 4, 14, 16, 30, 40, tzinfo=tzutc())},\n",
       " {'Name': 'transformed-data-sjb',\n",
       "  'CreationDate': datetime.datetime(2022, 4, 14, 16, 32, 56, tzinfo=tzutc())},\n",
       " {'Name': 'transformed-data-storage-1yr',\n",
       "  'CreationDate': datetime.datetime(2022, 4, 14, 16, 34, 15, tzinfo=tzutc())}]"
      ]
     },
     "execution_count": 3,
     "metadata": {},
     "output_type": "execute_result"
    }
   ],
   "source": [
    "buckets = client.list_buckets()\n",
    "buckets['Buckets']"
   ]
  },
  {
   "cell_type": "code",
   "execution_count": 4,
   "id": "814e1463",
   "metadata": {},
   "outputs": [
    {
     "data": {
      "text/plain": [
       "['customer0419.csv',\n",
       " 'orders0419.csv',\n",
       " 'order_items0419.csv',\n",
       " 'order_payments0419.csv',\n",
       " 'products0419.csv']"
      ]
     },
     "execution_count": 4,
     "metadata": {},
     "output_type": "execute_result"
    }
   ],
   "source": [
    "names = [os.path.basename(x) for x in glob.glob('../Data/data_test/04192022/*')] # code to find the files all together for upload\n",
    "names"
   ]
  },
  {
   "cell_type": "code",
   "execution_count": 5,
   "id": "388899b2",
   "metadata": {},
   "outputs": [
    {
     "data": {
      "text/plain": [
       "['customer0420.csv',\n",
       " 'orders0420.csv',\n",
       " 'order_items0420.csv',\n",
       " 'order_payments0420.csv',\n",
       " 'products0420.csv']"
      ]
     },
     "execution_count": 5,
     "metadata": {},
     "output_type": "execute_result"
    }
   ],
   "source": [
    "names2 = [os.path.basename(x) for x in glob.glob('../Data/data_test/04202022/*')] # code to find the files all together for upload\n",
    "names2"
   ]
  },
  {
   "cell_type": "code",
   "execution_count": 6,
   "id": "42b7f200",
   "metadata": {},
   "outputs": [
    {
     "data": {
      "text/plain": [
       "['customer0421.csv',\n",
       " 'orders0421.csv',\n",
       " 'order_items0421.csv',\n",
       " 'order_payments0421.csv',\n",
       " 'products0421.csv']"
      ]
     },
     "execution_count": 6,
     "metadata": {},
     "output_type": "execute_result"
    }
   ],
   "source": [
    "names3 = [os.path.basename(x) for x in glob.glob('../Data/data_test/04212022/*')] # code to find the files all together for upload\n",
    "names3"
   ]
  },
  {
   "cell_type": "code",
   "execution_count": 6,
   "id": "333f18e7",
   "metadata": {},
   "outputs": [
    {
     "data": {
      "text/plain": [
       "['customers04222022.csv',\n",
       " 'orders04222022.csv',\n",
       " 'order_items04222022.csv',\n",
       " 'order_payments04222022.csv',\n",
       " 'products04222022.csv']"
      ]
     },
     "execution_count": 6,
     "metadata": {},
     "output_type": "execute_result"
    }
   ],
   "source": [
    "names4 = [os.path.basename(x) for x in glob.glob('../Data/data_test/04222022/*')] # code to find the files all together for upload\n",
    "names4"
   ]
  },
  {
   "cell_type": "code",
   "execution_count": 4,
   "id": "fefa432d",
   "metadata": {},
   "outputs": [
    {
     "data": {
      "text/plain": [
       "['customers04262022.csv',\n",
       " 'orders04262022.csv',\n",
       " 'order_items04262022.csv',\n",
       " 'order_payments04262022.csv',\n",
       " 'products04262022.csv']"
      ]
     },
     "execution_count": 4,
     "metadata": {},
     "output_type": "execute_result"
    }
   ],
   "source": [
    "names5 = [os.path.basename(x) for x in glob.glob('../Data/data_test/04262022/*')] # code to find the files all together for upload\n",
    "names5"
   ]
  },
  {
   "cell_type": "markdown",
   "id": "dfe3b24e",
   "metadata": {},
   "source": [
    "### 0419 Upload"
   ]
  },
  {
   "cell_type": "code",
   "execution_count": 13,
   "id": "77e54b08",
   "metadata": {},
   "outputs": [],
   "source": [
    "for file in names:\n",
    "    if file.startswith(\"customer\"):\n",
    "        client.upload_file(f'../Data/data_test/04192022/{file}', 'raw-data-staging-sjb', f'customer/{file}')\n",
    "    if file.startswith(\"order_items\"):\n",
    "        client.upload_file(f'../Data/data_test/04192022/{file}', 'raw-data-staging-sjb', f'order_items/{file}')\n",
    "    if file.startswith(\"order_payments\"):\n",
    "        client.upload_file(f'../Data/data_test/04192022/{file}', 'raw-data-staging-sjb', f'order_payments/{file}')\n",
    "    if file.startswith(\"orders\"):\n",
    "        client.upload_file(f'../Data/data_test/04192022/{file}', 'raw-data-staging-sjb', f'orders/{file}')\n",
    "    if file.startswith(\"products\"):\n",
    "        client.upload_file(f'../Data/data_test/04192022/{file}', 'raw-data-staging-sjb', f'products/{file}')"
   ]
  },
  {
   "cell_type": "markdown",
   "id": "6b96b906",
   "metadata": {},
   "source": [
    "### 0420 Upload"
   ]
  },
  {
   "cell_type": "code",
   "execution_count": 13,
   "id": "5e6ab447",
   "metadata": {},
   "outputs": [],
   "source": [
    "for file in names2:\n",
    "    if file.startswith(\"customer\"):\n",
    "        client.upload_file(f'../Data/data_test/04202022/{file}', 'raw-data-staging-sjb', f'customer/{file}')\n",
    "    if file.startswith(\"order_items\"):\n",
    "        client.upload_file(f'../Data/data_test/04202022/{file}', 'raw-data-staging-sjb', f'order_items/{file}')\n",
    "    if file.startswith(\"order_payments\"):\n",
    "        client.upload_file(f'../Data/data_test/04202022/{file}', 'raw-data-staging-sjb', f'order_payments/{file}')\n",
    "    if file.startswith(\"orders\"):\n",
    "        client.upload_file(f'../Data/data_test/04202022/{file}', 'raw-data-staging-sjb', f'orders/{file}')\n",
    "    if file.startswith(\"products\"):\n",
    "        client.upload_file(f'../Data/data_test/04202022/{file}', 'raw-data-staging-sjb', f'products/{file}')"
   ]
  },
  {
   "cell_type": "markdown",
   "id": "cf239784",
   "metadata": {},
   "source": [
    "### 0421 Upload"
   ]
  },
  {
   "cell_type": "code",
   "execution_count": 19,
   "id": "b3cb2077",
   "metadata": {},
   "outputs": [],
   "source": [
    "for file in names3:\n",
    "    if file.startswith(\"customer\"):\n",
    "        client.upload_file(f'../Data/data_test/04212022/{file}', 'raw-data-staging-sjb', f'customer/{file}')\n",
    "    if file.startswith(\"order_items\"):\n",
    "        client.upload_file(f'../Data/data_test/04212022/{file}', 'raw-data-staging-sjb', f'order_items/{file}')\n",
    "    if file.startswith(\"order_payments\"):\n",
    "        client.upload_file(f'../Data/data_test/04212022/{file}', 'raw-data-staging-sjb', f'order_payments/{file}')\n",
    "    if file.startswith(\"orders\"):\n",
    "        client.upload_file(f'../Data/data_test/04212022/{file}', 'raw-data-staging-sjb', f'orders/{file}')\n",
    "    if file.startswith(\"products\"):\n",
    "        client.upload_file(f'../Data/data_test/04212022/{file}', 'raw-data-staging-sjb', f'products/{file}')"
   ]
  },
  {
   "cell_type": "markdown",
   "id": "948aa54c",
   "metadata": {},
   "source": [
    "### 0422 Upload"
   ]
  },
  {
   "cell_type": "code",
   "execution_count": 9,
   "id": "79e320aa",
   "metadata": {},
   "outputs": [],
   "source": [
    "for file in names4:\n",
    "    if file.startswith(\"customer\"):\n",
    "        client.upload_file(f'../Data/data_test/04222022/{file}', 'raw-data-staging-sjb', f'customer/{file}')\n",
    "    if file.startswith(\"order_items\"):\n",
    "        client.upload_file(f'../Data/data_test/04222022/{file}', 'raw-data-staging-sjb', f'order_items/{file}')\n",
    "    if file.startswith(\"order_payments\"):\n",
    "        client.upload_file(f'../Data/data_test/04222022/{file}', 'raw-data-staging-sjb', f'order_payments/{file}')\n",
    "    if file.startswith(\"orders\"):\n",
    "        client.upload_file(f'../Data/data_test/04222022/{file}', 'raw-data-staging-sjb', f'orders/{file}')\n",
    "    if file.startswith(\"products\"):\n",
    "        client.upload_file(f'../Data/data_test/04222022/{file}', 'raw-data-staging-sjb', f'products/{file}')"
   ]
  },
  {
   "cell_type": "markdown",
   "id": "e664b56c",
   "metadata": {},
   "source": [
    "### 0426 Upload"
   ]
  },
  {
   "cell_type": "code",
   "execution_count": null,
   "id": "d83bb43a",
   "metadata": {},
   "outputs": [],
   "source": [
    "for file in names5:\n",
    "    if file.startswith(\"customer\"):\n",
    "        client.upload_file(f'../Data/data_test/04262022/{file}', 'raw-data-staging-sjb', f'customer/{file}')\n",
    "    if file.startswith(\"order_items\"):\n",
    "        client.upload_file(f'../Data/data_test/04262022/{file}', 'raw-data-staging-sjb', f'order_items/{file}')\n",
    "    if file.startswith(\"order_payments\"):\n",
    "        client.upload_file(f'../Data/data_test/04262022/{file}', 'raw-data-staging-sjb', f'order_payments/{file}')\n",
    "    if file.startswith(\"orders\"):\n",
    "        client.upload_file(f'../Data/data_test/04262022/{file}', 'raw-data-staging-sjb', f'orders/{file}')\n",
    "    if file.startswith(\"products\"):\n",
    "        client.upload_file(f'../Data/data_test/04262022/{file}', 'raw-data-staging-sjb', f'products/{file}')"
   ]
  },
  {
   "cell_type": "code",
   "execution_count": null,
   "id": "4787d250",
   "metadata": {},
   "outputs": [],
   "source": []
  },
  {
   "cell_type": "code",
   "execution_count": null,
   "id": "bbe65baa",
   "metadata": {},
   "outputs": [],
   "source": []
  },
  {
   "cell_type": "code",
   "execution_count": 5,
   "id": "d9dd3710",
   "metadata": {},
   "outputs": [],
   "source": [
    "def delete_raw_data():\n",
    "    session = boto3.Session()\n",
    "    client = session.client('s3')\n",
    "    bucketNames = [\"buckets\"]\n",
    "    for bucketName in bucketNames:\n",
    "        response = client.list_objects_v2(Bucket='raw-data-staging-sjb')\n",
    "        if 'Contents' in response:\n",
    "            for item in response['Contents']:\n",
    "                if item['Key'].endswith('/'):\n",
    "                    # Omit deleting foler\n",
    "                    continue\n",
    "                else:\n",
    "                  print('deleting file', item['Key'])\n",
    "                  client.delete_object(Bucket='raw-data-staging-sjb', Key=item['Key'])"
   ]
  },
  {
   "cell_type": "code",
   "execution_count": 6,
   "id": "8215a898",
   "metadata": {},
   "outputs": [],
   "source": [
    "def delete_cleaned_data():\n",
    "    session = boto3.Session()\n",
    "    client = session.client('s3')\n",
    "    bucketNames = [\"buckets\"]\n",
    "    for bucketName in bucketNames:\n",
    "        response = client.list_objects_v2(Bucket='cleaned-data-bucket-sjb')\n",
    "        if 'Contents' in response:\n",
    "            for item in response['Contents']:\n",
    "                if item['Key'].endswith('/'):\n",
    "                    # Omit deleting folder\n",
    "                    continue\n",
    "                else:\n",
    "                  print('deleting file', item['Key'])\n",
    "                  client.delete_object(Bucket='cleaned-data-bucket-sjb', Key=item['Key'])"
   ]
  },
  {
   "cell_type": "code",
   "execution_count": 7,
   "id": "77820b56",
   "metadata": {},
   "outputs": [],
   "source": [
    "def delete_transformed_data():\n",
    "    session = boto3.Session()\n",
    "    client = session.client('s3')\n",
    "    bucketNames = [\"buckets\"]\n",
    "    for bucketName in bucketNames:\n",
    "        response = client.list_objects_v2(Bucket='transformed-data-sjb')\n",
    "        if 'Contents' in response:\n",
    "            for item in response['Contents']:\n",
    "                if item['Key'].endswith('/'):\n",
    "                    # Omit deleting folder\n",
    "                    continue\n",
    "                else:\n",
    "                  print('deleting file', item['Key'])\n",
    "                  client.delete_object(Bucket='transformed-data-sjb', Key=item['Key'])"
   ]
  },
  {
   "cell_type": "code",
   "execution_count": 8,
   "id": "0d5caa61",
   "metadata": {},
   "outputs": [
    {
     "name": "stdout",
     "output_type": "stream",
     "text": [
      "deleting file customer/customers04222022.csv\n",
      "deleting file order_items/order_items04222022.csv\n",
      "deleting file order_payments/order_payments04222022.csv\n",
      "deleting file orders/orders04222022.csv\n",
      "deleting file products/products04222022.csv\n"
     ]
    }
   ],
   "source": [
    "delete_raw_data()"
   ]
  },
  {
   "cell_type": "code",
   "execution_count": 9,
   "id": "b953ed1f",
   "metadata": {},
   "outputs": [
    {
     "name": "stdout",
     "output_type": "stream",
     "text": [
      "deleting file customer/run-1650640875607-part-r-00000\n",
      "deleting file order_items/run-1650640878727-part-r-00000\n",
      "deleting file order_payments/run-1650640879196-part-r-00000\n",
      "deleting file orders/run-1650640879600-part-r-00000\n",
      "deleting file products/run-1650640880080-part-r-00000\n"
     ]
    }
   ],
   "source": [
    "delete_cleaned_data()"
   ]
  },
  {
   "cell_type": "code",
   "execution_count": 10,
   "id": "98ebe3e9",
   "metadata": {},
   "outputs": [
    {
     "name": "stdout",
     "output_type": "stream",
     "text": [
      "deleting file customer/run-1650640994019-part-r-00000\n",
      "deleting file order_items/run-1650640998109-part-r-00000\n",
      "deleting file order_payments/run-1650640998779-part-r-00000\n",
      "deleting file orders/run-1650640999340-part-r-00000\n",
      "deleting file products/run-1650640999852-part-r-00000\n"
     ]
    }
   ],
   "source": [
    "delete_transformed_data()"
   ]
  },
  {
   "cell_type": "code",
   "execution_count": null,
   "id": "3df3aa79",
   "metadata": {},
   "outputs": [],
   "source": []
  },
  {
   "cell_type": "code",
   "execution_count": null,
   "id": "bdbfa21d",
   "metadata": {},
   "outputs": [],
   "source": []
  },
  {
   "cell_type": "code",
   "execution_count": null,
   "id": "fe351743",
   "metadata": {},
   "outputs": [],
   "source": []
  }
 ],
 "metadata": {
  "kernelspec": {
   "display_name": "Python 3 (ipykernel)",
   "language": "python",
   "name": "python3"
  },
  "language_info": {
   "codemirror_mode": {
    "name": "ipython",
    "version": 3
   },
   "file_extension": ".py",
   "mimetype": "text/x-python",
   "name": "python",
   "nbconvert_exporter": "python",
   "pygments_lexer": "ipython3",
   "version": "3.9.7"
  }
 },
 "nbformat": 4,
 "nbformat_minor": 5
}
